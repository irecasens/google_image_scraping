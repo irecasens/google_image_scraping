{
 "cells": [
  {
   "cell_type": "markdown",
   "metadata": {},
   "source": [
    "### Google Image Scraping: Using custom-search\n",
    "\n",
    "Based on **google-api-python-client** and the stakoverflow question <a href='https://stackoverflow.com/questions/22866579/download-images-with-google-custom-search-api'> here </a>.\n",
    "\n",
    "Unfortunately the free edition for google's <a href= 'https://developers.google.com/custom-search/'>custom search API</a> has a limit of 100 queries results per day. And a maximum of 10 results per query.\n"
   ]
  },
  {
   "cell_type": "code",
   "execution_count": 1,
   "metadata": {
    "collapsed": true
   },
   "outputs": [],
   "source": [
    "from googleapiclient.discovery import build\n"
   ]
  },
  {
   "cell_type": "markdown",
   "metadata": {},
   "source": [
    "### Find links"
   ]
  },
  {
   "cell_type": "code",
   "execution_count": 17,
   "metadata": {
    "collapsed": true
   },
   "outputs": [],
   "source": [
    "\n",
    "my_api_key = '[insert you api key]'\n",
    "my_cse_id = \"[insert your custom search engine id]\"\n",
    "\n",
    "def google_search(search_term, api_key, cse_id, k, searchType):\n",
    "    service = build(\"customsearch\", \"v1\", developerKey=api_key)\n",
    "    \n",
    "    res = service.cse().list(q=search_term, cx=cse_id, num = k, searchType = searchType).execute()\n",
    "    \n",
    "    return(res)\n",
    "\n",
    "\n",
    "query = 'melanoma'\n",
    "results = google_search(query, my_api_key, my_cse_id, 10, 'image')\n"
   ]
  },
  {
   "cell_type": "code",
   "execution_count": 18,
   "metadata": {},
   "outputs": [
    {
     "data": {
      "text/plain": [
       "'https://upload.wikimedia.org/wikipedia/commons/thumb/6/6c/Melanoma.jpg/1200px-Melanoma.jpg'"
      ]
     },
     "execution_count": 18,
     "metadata": {},
     "output_type": "execute_result"
    }
   ],
   "source": [
    "results['items'][0]['link']\n"
   ]
  },
  {
   "cell_type": "code",
   "execution_count": 19,
   "metadata": {},
   "outputs": [
    {
     "name": "stdout",
     "output_type": "stream",
     "text": [
      "https://upload.wikimedia.org/wikipedia/commons/thumb/6/6c/Melanoma.jpg/1200px-Melanoma.jpg\n",
      "https://www.cancer.gov/images/cdr/live/CDR579056.jpg\n",
      "http://www.skincancer.org/Media/Default/Page/skin-cancer-information/Melanoma/b.jpg\n",
      "https://www.cancer.gov/images/cdr/live/CDR579053.jpg\n",
      "http://www.skincancer.org/Media/Default/Page/skin-cancer-information/Melanoma/d.jpg\n",
      "https://www.cancer.gov/images/cdr/live/CDR579050.jpg\n",
      "http://www.skincancer.org/Media/Default/Page/skin-cancer-information/Melanoma/e.jpg\n",
      "https://www.aad.org/Image%20Library/Main%20navigation/Public%20and%20patients/Diseases%20and%20treatments/Skin%20cancer/Melanoma_one_ABCDE.JPG\n",
      "http://www.skincancer.org/Media/Default/Page/skin-cancer-information/Melanoma/a.jpg\n",
      "https://www.mdanderson.org/content/mda/en/patients-family/diagnosis-treatment/cancer-types/melanoma/jcr:content/mainparsys/accordioncontainer/2626-col2/adaptiveimage.resize.278.0.medium.jpg/1496263899100.jpg\n"
     ]
    }
   ],
   "source": [
    "\n",
    "for result in results['items']:\n",
    "    print(result['link'])\n",
    "\n"
   ]
  },
  {
   "cell_type": "markdown",
   "metadata": {},
   "source": [
    "### Save into folder"
   ]
  },
  {
   "cell_type": "code",
   "execution_count": 20,
   "metadata": {
    "collapsed": true
   },
   "outputs": [],
   "source": [
    "import urllib.request\n"
   ]
  },
  {
   "cell_type": "code",
   "execution_count": 22,
   "metadata": {
    "collapsed": true
   },
   "outputs": [],
   "source": [
    "\n",
    "i = 1\n",
    "for image in results['items']:\n",
    "    urllib.request.urlretrieve(image['link'], \"data/\" + query + \"-\" + str(i) + \".jpg\") \n",
    "    i+=1\n"
   ]
  },
  {
   "cell_type": "code",
   "execution_count": null,
   "metadata": {
    "collapsed": true
   },
   "outputs": [],
   "source": []
  },
  {
   "cell_type": "markdown",
   "metadata": {
    "collapsed": true
   },
   "source": [
    "#### Alternative"
   ]
  },
  {
   "cell_type": "code",
   "execution_count": 8,
   "metadata": {},
   "outputs": [
    {
     "name": "stdout",
     "output_type": "stream",
     "text": [
      "https://upload.wikimedia.org/wikipedia/commons/thumb/6/6c/Melanoma.jpg/1200px-Melanoma.jpg\n",
      "https://www.cancer.gov/images/cdr/live/CDR579056.jpg\n",
      "http://www.skincancer.org/Media/Default/Page/skin-cancer-information/Melanoma/b.jpg\n",
      "https://www.cancer.gov/images/cdr/live/CDR579053.jpg\n",
      "https://www.aad.org/Image%20Library/Main%20navigation/Public%20and%20patients/Diseases%20and%20treatments/Skin%20cancer/Melanoma_one_ABCDE.JPG\n",
      "https://www.cancer.gov/images/cdr/live/CDR579050.jpg\n",
      "http://www.skincancer.org/Media/Default/Page/skin-cancer-information/Melanoma/d.jpg\n",
      "https://www.cancer.gov/images/cdr/live/CDR579064-750.jpg\n",
      "http://images.medicinenet.com/images/content-thumbs/melanoma.jpg\n",
      "https://www.mdanderson.org/content/mda/en/patients-family/diagnosis-treatment/cancer-types/melanoma/jcr:content/mainparsys/accordioncontainer/2626-col2/adaptiveimage.resize.278.0.medium.jpg/1496263899100.jpg\n"
     ]
    }
   ],
   "source": [
    "from apiclient.discovery import build\n",
    "\n",
    "service = build(\"customsearch\", \"v1\",\n",
    "               developerKey=my_api_key)\n",
    "\n",
    "res = service.cse().list(\n",
    "    q='melanoma',\n",
    "    cx=my_cse_id,\n",
    "    searchType='image',\n",
    "    num=10,\n",
    "    imgType='clipart',\n",
    "    fileType='jpg',\n",
    "    safe= 'off'\n",
    ").execute()\n",
    "\n",
    "if not 'items' in res:\n",
    "    print('No result !!\\nres is: {}'.format(res))\n",
    "else:\n",
    "    for item in res['items']:\n",
    "        print(item['link'])"
   ]
  },
  {
   "cell_type": "code",
   "execution_count": null,
   "metadata": {
    "collapsed": true
   },
   "outputs": [],
   "source": []
  }
 ],
 "metadata": {
  "kernelspec": {
   "display_name": "Python 3",
   "language": "python",
   "name": "python3"
  },
  "language_info": {
   "codemirror_mode": {
    "name": "ipython",
    "version": 3
   },
   "file_extension": ".py",
   "mimetype": "text/x-python",
   "name": "python",
   "nbconvert_exporter": "python",
   "pygments_lexer": "ipython3",
   "version": "3.6.1"
  }
 },
 "nbformat": 4,
 "nbformat_minor": 2
}
